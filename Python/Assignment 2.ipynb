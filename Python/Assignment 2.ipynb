{
 "cells": [
  {
   "cell_type": "markdown",
   "metadata": {},
   "source": [
    "# PRÁCTICA No 2 CERTIFICACIÓN PYTHON"
   ]
  },
  {
   "cell_type": "markdown",
   "metadata": {},
   "source": [
    "## Resolver con IF:"
   ]
  },
  {
   "cell_type": "markdown",
   "metadata": {},
   "source": [
    "21. Escribir un programa que determine si el año es bisiesto. Un año es bisiesto si es múltiplo de 4 (1988), excepto los múltiplos de 100 que no son bisiestos salvo que a su vez también sean múltiplos de 400 (1800no es bisiesto, 2000 sí)."
   ]
  },
  {
   "cell_type": "code",
   "execution_count": 7,
   "metadata": {},
   "outputs": [
    {
     "name": "stdout",
     "output_type": "stream",
     "text": [
      "Ingrese un año: 2000\n",
      "El año 2000 es bisiesto\n"
     ]
    }
   ],
   "source": [
    "year=int(input(\"Ingrese un año: \"))\n",
    "if year<1:\n",
    "    print(\"Ingrese años mayores a cero\")\n",
    "else:\n",
    "    if year%4==0:\n",
    "        if year%100==0:\n",
    "            if year%400==0:\n",
    "                print(f\"El año {year} es bisiesto\")\n",
    "            else:\n",
    "                print(f\"El año {year} no es bisiesto\")\n",
    "        else:\n",
    "            print(f\"El año {year} es bisiesto\")\n",
    "    else:\n",
    "        print(f\"El año {year} no es bisiesto\")"
   ]
  },
  {
   "cell_type": "markdown",
   "metadata": {},
   "source": [
    "22. Dado los valores de A, B, C que son los coeficientes de la ecuación de segundo grado, hallar sus raíces reales, desplegar los resultados."
   ]
  },
  {
   "cell_type": "code",
   "execution_count": 12,
   "metadata": {},
   "outputs": [
    {
     "name": "stdout",
     "output_type": "stream",
     "text": [
      "ECUACIÓN A X² + B X + C = 0\n",
      "Escriba el valor del coeficiente A: 2\n",
      "Escriba el valor del coeficiente B: 8\n",
      "Escriba el valor del coeficiente C: 1\n",
      "La ecuación tiene dos soluciones reales: -0.13 y -3.87\n"
     ]
    }
   ],
   "source": [
    "import math\n",
    "print(\"ECUACIÓN A X² + B X + C = 0\")\n",
    "a=float(input(\"Escriba el valor del coeficiente A: \"))\n",
    "b=float(input(\"Escriba el valor del coeficiente B: \"))\n",
    "c=float(input(\"Escriba el valor del coeficiente C: \"))\n",
    "d=b**2-4*a*c\n",
    "if d==0:\n",
    "    sol=(-b)/(2*a)\n",
    "    print(f\"La ecuación tiene una solucion real: {sol:.2f}\")\n",
    "elif d>0:\n",
    "    sol1=((-b)+math.sqrt(d))/(2*a)\n",
    "    sol2=((-b)-math.sqrt(d))/(2*a)\n",
    "    print(f\"La ecuación tiene dos soluciones reales: {sol1:.2f} y {sol2:.2f}\")\n",
    "else:\n",
    "    numCom1=complex(-b,math.sqrt(-d))\n",
    "    numCom2=complex(-b,-math.sqrt(-d))\n",
    "    sol1=(numCom1)/((2*a)+0j)\n",
    "    sol2=(numCom2)/((2*a)+0j)\n",
    "    print(f\"La ecuación tiene dos soluciones imaginarias: {sol1:.2f} y {sol2:.2f}\")"
   ]
  },
  {
   "cell_type": "markdown",
   "metadata": {},
   "source": [
    "## Resolver con WHILE"
   ]
  },
  {
   "cell_type": "markdown",
   "metadata": {},
   "source": [
    "23. Dado dos valores A y B, realizar el producto de los dos números por sumas sucesivas, almacenar el resultado en una variable P, mostrar el resultado."
   ]
  },
  {
   "cell_type": "code",
   "execution_count": 20,
   "metadata": {},
   "outputs": [
    {
     "name": "stdout",
     "output_type": "stream",
     "text": [
      "Escriba el valor de A: 2\n",
      "Escriba el valor de B: 7\n",
      "El resultado es 14\n"
     ]
    }
   ],
   "source": [
    "a=int(input(\"Escriba el valor de A: \"))\n",
    "b=int(input(\"Escriba el valor de B: \"))\n",
    "ap=abs(a)\n",
    "bp=abs(b)\n",
    "P=0\n",
    "i=0\n",
    "while i<bp:\n",
    "    P+=ap\n",
    "    i+=1    \n",
    "if (a>0 and b>0) or (a<0 and b<0):\n",
    "    print(f\"El resultado es {P}\")\n",
    "elif (a>0 and b<0) or (a<0 and b>0):\n",
    "    print(f\"El resultado es -{P}\")"
   ]
  },
  {
   "cell_type": "markdown",
   "metadata": {},
   "source": [
    "24. Dado un número X, determinar el número de dígitos del que esta compuesto y desplegar el resultado."
   ]
  },
  {
   "cell_type": "code",
   "execution_count": 28,
   "metadata": {},
   "outputs": [
    {
     "name": "stdout",
     "output_type": "stream",
     "text": [
      "Ingresar X: 7423\n",
      "El número 7423 tiene 4 dígitos \n"
     ]
    }
   ],
   "source": [
    "x=int(input(\"Ingresar X: \"))\n",
    "xa=x\n",
    "cont=0\n",
    "while x>0:\n",
    "    x=x//10\n",
    "    cont+=1\n",
    "print(f\"El número {xa} tiene {cont} dígitos \")"
   ]
  },
  {
   "cell_type": "markdown",
   "metadata": {},
   "source": [
    "25. Escribir un programa que calcule y visualice el más grande, el más pequeño y la media\n",
    "de N números. El valor de N se solicitará al principio del programa y los números\n",
    "serán introducidos por el usuario."
   ]
  },
  {
   "cell_type": "code",
   "execution_count": 29,
   "metadata": {},
   "outputs": [
    {
     "name": "stdout",
     "output_type": "stream",
     "text": [
      "Ingresa el valor de N: 7\n"
     ]
    }
   ],
   "source": [
    "n=int(input(\"Ingresa el valor de N: \"))"
   ]
  },
  {
   "cell_type": "code",
   "execution_count": null,
   "metadata": {},
   "outputs": [],
   "source": []
  }
 ],
 "metadata": {
  "kernelspec": {
   "display_name": "Python 3",
   "language": "python",
   "name": "python3"
  },
  "language_info": {
   "codemirror_mode": {
    "name": "ipython",
    "version": 3
   },
   "file_extension": ".py",
   "mimetype": "text/x-python",
   "name": "python",
   "nbconvert_exporter": "python",
   "pygments_lexer": "ipython3",
   "version": "3.7.4"
  }
 },
 "nbformat": 4,
 "nbformat_minor": 2
}
