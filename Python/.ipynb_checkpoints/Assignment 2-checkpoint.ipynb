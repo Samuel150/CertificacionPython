{
 "cells": [
  {
   "cell_type": "markdown",
   "metadata": {},
   "source": [
    "# PRÁCTICA No 2 CERTIFICACIÓN PYTHON"
   ]
  },
  {
   "cell_type": "markdown",
   "metadata": {},
   "source": [
    "## Resolver con IF:"
   ]
  },
  {
   "cell_type": "markdown",
   "metadata": {},
   "source": [
    "21. Escribir un programa que determine si el año es bisiesto. Un año es bisiesto si es\n",
    "múltiplo de 4 (1988), excepto los múltiplos de 100 que no son bisiestos salvo que a su\n",
    "vez también sean múltiplos de 400 (1800no es bisiesto, 2000 sí)."
   ]
  },
  {
   "cell_type": "code",
   "execution_count": 9,
   "metadata": {},
   "outputs": [
    {
     "ename": "SyntaxError",
     "evalue": "invalid syntax (<ipython-input-9-824beb769d48>, line 7)",
     "output_type": "error",
     "traceback": [
      "\u001b[0;36m  File \u001b[0;32m\"<ipython-input-9-824beb769d48>\"\u001b[0;36m, line \u001b[0;32m7\u001b[0m\n\u001b[0;31m    if year%400==0\u001b[0m\n\u001b[0m                  ^\u001b[0m\n\u001b[0;31mSyntaxError\u001b[0m\u001b[0;31m:\u001b[0m invalid syntax\n"
     ]
    }
   ],
   "source": [
    "year=int(input(\"Ingrese un año: \"))\n",
    "if year<1:\n",
    "    print(\"Ingrese años mayores a cero\")\n",
    "else:\n",
    "    if year%4==0:\n",
    "        if year%100==0:\n",
    "            if year%400==0:\n",
    "                print(f\"El año {year} es bisiesto\")\n",
    "            else:\n",
    "                print(f\"El año no es {year} es bisiesto\")\n",
    "        else:\n",
    "            print(f\"El año {year} es bisiesto\")\n",
    "    else:\n",
    "        print(f\"El año no es {year} es bisiesto\")"
   ]
  },
  {
   "cell_type": "code",
   "execution_count": null,
   "metadata": {},
   "outputs": [],
   "source": []
  }
 ],
 "metadata": {
  "kernelspec": {
   "display_name": "Python 3",
   "language": "python",
   "name": "python3"
  },
  "language_info": {
   "codemirror_mode": {
    "name": "ipython",
    "version": 3
   },
   "file_extension": ".py",
   "mimetype": "text/x-python",
   "name": "python",
   "nbconvert_exporter": "python",
   "pygments_lexer": "ipython3",
   "version": "3.7.4"
  }
 },
 "nbformat": 4,
 "nbformat_minor": 2
}
