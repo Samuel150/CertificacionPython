{
 "cells": [
  {
   "cell_type": "markdown",
   "metadata": {},
   "source": [
    "# PRÁCTICA No 2 CERTIFICACIÓN PYTHON"
   ]
  },
  {
   "cell_type": "markdown",
   "metadata": {},
   "source": [
    "## Resolver con IF:"
   ]
  },
  {
   "cell_type": "markdown",
   "metadata": {},
   "source": [
    "### 21. Escribir un programa que determine si el año es bisiesto. Un año es bisiesto si es múltiplo de 4 (1988), excepto los múltiplos de 100 que no son bisiestos salvo que a su vez también sean múltiplos de 400 (1800no es bisiesto, 2000 sí)."
   ]
  },
  {
   "cell_type": "code",
   "execution_count": 13,
   "metadata": {},
   "outputs": [
    {
     "name": "stdout",
     "output_type": "stream",
     "text": [
      "Ingrese un año: s\n",
      "Ingrese años mayores a cero\n"
     ]
    }
   ],
   "source": [
    "try:\n",
    "    year=int(input(\"Ingrese un año: \"))\n",
    "except ValueError:\n",
    "    year=0\n",
    "if year<1:\n",
    "    print(\"Ingrese años mayores a cero\")\n",
    "else:\n",
    "    if year%4==0:\n",
    "        if year%100==0:\n",
    "            if year%400==0:\n",
    "                print(f\"El año {year} es bisiesto\")\n",
    "            else:\n",
    "                print(f\"El año {year} no es bisiesto\")\n",
    "        else:\n",
    "            print(f\"El año {year} es bisiesto\")\n",
    "    else:\n",
    "        print(f\"El año {year} no es bisiesto\")"
   ]
  },
  {
   "cell_type": "markdown",
   "metadata": {},
   "source": [
    "### 22. Dado los valores de A, B, C que son los coeficientes de la ecuación de segundo grado, hallar sus raíces reales, desplegar los resultados."
   ]
  },
  {
   "cell_type": "code",
   "execution_count": 16,
   "metadata": {},
   "outputs": [
    {
     "name": "stdout",
     "output_type": "stream",
     "text": [
      "ECUACIÓN A X² + B X + C = 0\n",
      "Escriba el valor del coeficiente A: 4\n",
      "Escriba el valor del coeficiente B: 7\n",
      "Escriba el valor del coeficiente C: 3\n",
      "La ecuación tiene dos soluciones reales: -0.75 y -1.00\n"
     ]
    }
   ],
   "source": [
    "import math\n",
    "print(\"ECUACIÓN A X² + B X + C = 0\")\n",
    "valid=True\n",
    "try:\n",
    "    a=float(input(\"Escriba el valor del coeficiente A: \"))\n",
    "    b=float(input(\"Escriba el valor del coeficiente B: \"))\n",
    "    c=float(input(\"Escriba el valor del coeficiente C: \"))\n",
    "except ValueError:\n",
    "    valid=False\n",
    "    print(\"Ingrese números para A,B y C\")\n",
    "if valid:\n",
    "    d=b**2-4*a*c\n",
    "    if d==0:\n",
    "        sol=(-b)/(2*a)\n",
    "        print(f\"La ecuación tiene una solucion real: {sol:.2f}\")\n",
    "    elif d>0:\n",
    "        sol1=((-b)+math.sqrt(d))/(2*a)\n",
    "        sol2=((-b)-math.sqrt(d))/(2*a)\n",
    "        print(f\"La ecuación tiene dos soluciones reales: {sol1:.2f} y {sol2:.2f}\")\n",
    "    else:\n",
    "        numCom1=complex(-b,math.sqrt(-d))\n",
    "        numCom2=complex(-b,-math.sqrt(-d))\n",
    "        sol1=(numCom1)/((2*a)+0j)\n",
    "        sol2=(numCom2)/((2*a)+0j)\n",
    "        print(f\"La ecuación tiene dos soluciones imaginarias: {sol1:.2f} y {sol2:.2f}\")"
   ]
  },
  {
   "cell_type": "markdown",
   "metadata": {},
   "source": [
    "## Resolver con WHILE"
   ]
  },
  {
   "cell_type": "markdown",
   "metadata": {},
   "source": [
    "### 23. Dado dos valores A y B, realizar el producto de los dos números por sumas sucesivas, almacenar el resultado en una variable P, mostrar el resultado."
   ]
  },
  {
   "cell_type": "code",
   "execution_count": 19,
   "metadata": {},
   "outputs": [
    {
     "name": "stdout",
     "output_type": "stream",
     "text": [
      "Escriba el valor de A: 5\n",
      "Escriba el valor de B: a\n",
      "Ingrese números para A y B\n"
     ]
    }
   ],
   "source": [
    "valid = True\n",
    "try:\n",
    "    a=int(input(\"Escriba el valor de A: \"))\n",
    "    b=int(input(\"Escriba el valor de B: \"))\n",
    "except ValueError:\n",
    "    valid=False\n",
    "    print(\"Ingrese números para A y B\")\n",
    "if valid:\n",
    "    ap=abs(a)\n",
    "    bp=abs(b)\n",
    "    P=0\n",
    "    i=0\n",
    "    while i<bp:\n",
    "        P+=ap\n",
    "        i+=1    \n",
    "    if (a>0 and b>0) or (a<0 and b<0):\n",
    "        print(f\"El resultado es {P}\")\n",
    "    elif (a>0 and b<0) or (a<0 and b>0):\n",
    "        print(f\"El resultado es -{P}\")"
   ]
  },
  {
   "cell_type": "markdown",
   "metadata": {},
   "source": [
    "### 24. Dado un número X, determinar el número de dígitos del que esta compuesto y desplegar el resultado."
   ]
  },
  {
   "cell_type": "code",
   "execution_count": 21,
   "metadata": {},
   "outputs": [
    {
     "name": "stdout",
     "output_type": "stream",
     "text": [
      "Ingresar X: 4\n",
      "El número 4 tiene 1 dígitos \n"
     ]
    }
   ],
   "source": [
    "valid=True\n",
    "try:\n",
    "    x=int(input(\"Ingresar X: \"))\n",
    "except ValueError:\n",
    "    valid=False\n",
    "    print(\"Ingrese números para X\")\n",
    "if valid:\n",
    "    xa=x\n",
    "    cont=0\n",
    "    while x>0:\n",
    "        x=x//10\n",
    "        cont+=1\n",
    "    print(f\"El número {xa} tiene {cont} dígitos \")"
   ]
  },
  {
   "cell_type": "markdown",
   "metadata": {},
   "source": [
    "### 25. Escribir un programa que calcule y visualice el más grande, el más pequeño y la media de N números. El valor de N se solicitará al principio del programa y los números serán introducidos por el usuario."
   ]
  },
  {
   "cell_type": "code",
   "execution_count": 7,
   "metadata": {},
   "outputs": [
    {
     "name": "stdout",
     "output_type": "stream",
     "text": [
      "Ingresa el valor de N: 4\n",
      "Ingrese valor 1: @\n",
      "Los valores deben ser numeros\n"
     ]
    }
   ],
   "source": [
    "try:\n",
    "    n=int(input(\"Ingresa el valor de N: \"))\n",
    "except ValueError:\n",
    "    print(\"N debe ser entero mayor a cero\")\n",
    "    n=0\n",
    "nums=[]\n",
    "i=0\n",
    "while i<n:\n",
    "    try:\n",
    "        nums.append(float(input(f\"Ingrese valor {i+1}: \")))\n",
    "    except ValueError:\n",
    "        print(\"Los valores deben ser numeros\")\n",
    "        n=0\n",
    "        break\n",
    "    i+=1\n",
    "i=0\n",
    "if n>0:\n",
    "    maxN=nums[0]\n",
    "    minN=nums[0]\n",
    "    while i<n-1:\n",
    "        if nums[i+1]>maxN:\n",
    "            maxN=nums[i+1]\n",
    "        if nums[i+1]<minN:\n",
    "            minN=nums[i]\n",
    "        i+=1\n",
    "    i=0\n",
    "    suma=0\n",
    "    while i<n:\n",
    "        suma+=nums[i]\n",
    "        i+=1\n",
    "    media=suma/len(nums)\n",
    "    print(f\"El más grande es: {maxN}, el más pequeño es: {minN} y la media es: {media}\")"
   ]
  },
  {
   "cell_type": "markdown",
   "metadata": {},
   "source": [
    "### 26. Dado dos números A y B enteros mayores a cero, hallar A^B por sumas. Desplegar los números y el resultado."
   ]
  },
  {
   "cell_type": "code",
   "execution_count": 18,
   "metadata": {},
   "outputs": [
    {
     "name": "stdout",
     "output_type": "stream",
     "text": [
      "Ingrese el valor de A: 2\n",
      "Ingrese el valor de B: 5\n",
      "2^5 es: 32\n"
     ]
    }
   ],
   "source": [
    "def multSum(a,b):\n",
    "    i=0\n",
    "    res=0\n",
    "    while i<b:\n",
    "        res+=a\n",
    "        i+=1\n",
    "    return res\n",
    "try:\n",
    "    a=int(input(\"Ingrese el valor de A: \"))\n",
    "    b=int(input(\"Ingrese el valor de B: \"))\n",
    "except ValueError:\n",
    "    print(\"Debe ingresar números enteros\")\n",
    "if a<1 or b<1:\n",
    "    print(\"Debe ingresar números mayores a cero\")\n",
    "else:\n",
    "    if b==0:\n",
    "        print(f\"{a}^{b} es: 1\")\n",
    "    else:\n",
    "        i=0\n",
    "        res=a\n",
    "        while i<b-1:\n",
    "            res=multSum(res,a)\n",
    "            i+=1\n",
    "        print(f\"{a}^{b} es: {res}\")"
   ]
  },
  {
   "cell_type": "markdown",
   "metadata": {},
   "source": [
    "## Resolver con FOR"
   ]
  },
  {
   "cell_type": "markdown",
   "metadata": {},
   "source": [
    "### 27. La constante pi (3.1441592...) es muy utilizada en matemáticas. Un método sencillo de calcular su valor es:  \n",
    "pi = 2 * (2/1) * (2/3) * (4/3) * (4/5) * (6/5) * (6/7) * (8/7) * (8/9) ...  \n",
    "### Escribir un programa que efectúe este cálculo con un número de términos especificando por el usuario."
   ]
  },
  {
   "cell_type": "code",
   "execution_count": 23,
   "metadata": {},
   "outputs": [
    {
     "name": "stdout",
     "output_type": "stream",
     "text": [
      "Introduzca el número de términos para calcular PI: a\n",
      "El número de términos debe ser un número mayor a 0\n"
     ]
    }
   ],
   "source": [
    "try:\n",
    "    term=int(input(\"Introduzca el número de términos para calcular PI: \"))\n",
    "except ValueError:\n",
    "    term=0\n",
    "if term<1:\n",
    "    print(\"El número de términos debe ser un número mayor a 0\")\n",
    "elif term==2:\n",
    "    print(\"PI = 2.00\")\n",
    "else:\n",
    "    pi=2\n",
    "    imp=1\n",
    "    par=2\n",
    "    impI=1\n",
    "    parI=0\n",
    "    for i in range(0,term-1):\n",
    "        if impI==2:\n",
    "            impI=0\n",
    "            imp+=2\n",
    "        if parI==2:\n",
    "            parI=0\n",
    "            par+=2\n",
    "        pi*=(par/imp)\n",
    "        parI+=1\n",
    "        impI+=1\n",
    "    print(f\"PI = {pi:.5f}\")\n",
    "            "
   ]
  },
  {
   "cell_type": "markdown",
   "metadata": {},
   "source": [
    "### 28. El valor de e^x se puede aproximar por la suma:\n",
    "1+x+(x^2/2!)+(x^3/3!)+(x^4/4!)+...+(x^n/n!)\n",
    "### Escribir un programa que tome un valor de x como entrada y visualice la suma para cada uno de los valores de 1 a 100."
   ]
  },
  {
   "cell_type": "code",
   "execution_count": 25,
   "metadata": {},
   "outputs": [
    {
     "name": "stdout",
     "output_type": "stream",
     "text": [
      "Ingrese el valor de X: a\n",
      "El valor de X debe ser un número\n"
     ]
    }
   ],
   "source": [
    "def fact(x):\n",
    "    if x==0:\n",
    "        return 1\n",
    "    else:\n",
    "        res=1\n",
    "        for i in range(1,x+1):\n",
    "            res*=i\n",
    "        return res\n",
    "valid=True\n",
    "try:\n",
    "    x=float(input(\"Ingrese el valor de X: \"))\n",
    "except ValueError:\n",
    "    valid=False\n",
    "    print(\"El valor de X debe ser un número\")\n",
    "if valid:\n",
    "    res=0\n",
    "    for i in range(0,100):\n",
    "        res+=(x**i/fact(i))\n",
    "        print(f\"El resultado en la iteracion {i+1} es: {res:.4f}\")\n",
    "    print(f\"e^{x} es aprox: {res:.4f}\")"
   ]
  },
  {
   "cell_type": "markdown",
   "metadata": {},
   "source": [
    "## USO DE LISTAS ANIDADAS"
   ]
  },
  {
   "cell_type": "markdown",
   "metadata": {},
   "source": [
    "### 29. Calcular la suma de todos los elementos de un vector, así como la media aritmética."
   ]
  },
  {
   "cell_type": "code",
   "execution_count": 31,
   "metadata": {},
   "outputs": [
    {
     "name": "stdout",
     "output_type": "stream",
     "text": [
      "Ingresa el tamaño del vector: -8\n",
      "El tamaño del vector debe ser un número mayor a cero\n"
     ]
    }
   ],
   "source": [
    "valid=True\n",
    "try:\n",
    "    n=int(input(\"Ingresa el tamaño del vector: \"))\n",
    "except ValueError:\n",
    "    valid=False\n",
    "    print(\"El tamaño del vector debe ser un número mayor a cero\")\n",
    "if valid:\n",
    "    if n>0:\n",
    "        nums=[]\n",
    "        i=0\n",
    "        while i<n:\n",
    "            nums.append(float(input(f\"Ingrese valor {i+1}: \")))\n",
    "            i+=1\n",
    "        suma=sum(nums)\n",
    "        media=suma/len(nums)\n",
    "        print(f\"La suma de los elementos es: {suma} y la media es: {media}\")\n",
    "    else:\n",
    "        print(\"El tamaño del vector debe ser un número mayor a cero\")"
   ]
  },
  {
   "cell_type": "markdown",
   "metadata": {},
   "source": [
    "### 30. Multiplicar dos matrices."
   ]
  },
  {
   "cell_type": "code",
   "execution_count": 1,
   "metadata": {},
   "outputs": [
    {
     "name": "stdout",
     "output_type": "stream",
     "text": [
      "Ingrese la altura de la primera matriz: 3\n",
      "Ingrese el ancho de la primera matriz: 3\n",
      "Ingrese la altura de la Segunda matriz: 3\n",
      "Ingrese el ancho de la segunda matriz: 2\n",
      "Ingrese valor la celda 1,1 de la primera matriz: 3\n",
      "Ingrese valor la celda 1,2 de la primera matriz: 2\n",
      "Ingrese valor la celda 1,3 de la primera matriz: 1\n",
      "Ingrese valor la celda 2,1 de la primera matriz: 1\n",
      "Ingrese valor la celda 2,2 de la primera matriz: 1\n",
      "Ingrese valor la celda 2,3 de la primera matriz: 3\n",
      "Ingrese valor la celda 3,1 de la primera matriz: 0\n",
      "Ingrese valor la celda 3,2 de la primera matriz: 2\n",
      "Ingrese valor la celda 3,3 de la primera matriz: 1\n",
      "Ingrese valor la celda 1,1 de la segunda matriz: 2\n",
      "Ingrese valor la celda 1,2 de la segunda matriz: 1\n",
      "Ingrese valor la celda 2,1 de la segunda matriz: 1\n",
      "Ingrese valor la celda 2,2 de la segunda matriz: 0\n",
      "Ingrese valor la celda 3,1 de la segunda matriz: 3\n",
      "Ingrese valor la celda 3,2 de la segunda matriz: 2\n",
      "La primera matriz es: \n",
      "[[3. 2. 1.]\n",
      " [1. 1. 3.]\n",
      " [0. 2. 1.]]\n",
      "La segunda matriz es: \n",
      "[[2. 1.]\n",
      " [1. 0.]\n",
      " [3. 2.]]\n",
      "El resultado de su multiplicacion es: \n",
      "[[11.  5.]\n",
      " [12.  7.]\n",
      " [ 5.  2.]]\n"
     ]
    }
   ],
   "source": [
    "import numpy\n",
    "valid=True\n",
    "try:\n",
    "    i1=int(input(\"Ingrese la altura de la primera matriz: \"))\n",
    "    j1=int(input(\"Ingrese el ancho de la primera matriz: \"))\n",
    "    i2=int(input(\"Ingrese la altura de la Segunda matriz: \"))\n",
    "    j2=int(input(\"Ingrese el ancho de la segunda matriz: \"))\n",
    "except ValueError:\n",
    "    valid=False\n",
    "    print(\"las dimensiones de las matrices deben ser número enteros positivos\")\n",
    "if valid:\n",
    "    if j1!=i2:\n",
    "        print(\"El ancho de la primera matriz debe ser igual a la atura de la segunda matriz\")\n",
    "    else:\n",
    "        mat1=numpy.zeros(shape=(i1,j1))\n",
    "        mat2=numpy.zeros(shape=(i2,j2))\n",
    "        for i in range(0,i1):\n",
    "            for j in range(0,j1):\n",
    "                mat1[i][j]=float(input(f\"Ingrese valor la celda {i+1},{j+1} de la primera matriz: \"))\n",
    "        for i in range(0,i2):\n",
    "            for j in range(0,j2):\n",
    "                mat2[i][j]=float(input(f\"Ingrese valor la celda {i+1},{j+1} de la segunda matriz: \"))\n",
    "        matR=numpy.zeros(shape=(i1,j2))\n",
    "        for i in range(0,i1):\n",
    "            for j in range(0,j2):\n",
    "                for k in range(0,j1):\n",
    "                    matR[i][j]+=mat1[i][k]*mat2[k][j]\n",
    "        print(\"La primera matriz es: \")\n",
    "        print(mat1)\n",
    "        print(\"La segunda matriz es: \")\n",
    "        print(mat2)\n",
    "        print(\"El resultado de su multiplicacion es: \")\n",
    "        print(matR)"
   ]
  },
  {
   "cell_type": "code",
   "execution_count": null,
   "metadata": {},
   "outputs": [],
   "source": []
  }
 ],
 "metadata": {
  "kernelspec": {
   "display_name": "Python 3",
   "language": "python",
   "name": "python3"
  },
  "language_info": {
   "codemirror_mode": {
    "name": "ipython",
    "version": 3
   },
   "file_extension": ".py",
   "mimetype": "text/x-python",
   "name": "python",
   "nbconvert_exporter": "python",
   "pygments_lexer": "ipython3",
   "version": "3.7.4"
  }
 },
 "nbformat": 4,
 "nbformat_minor": 2
}
