{
 "cells": [
  {
   "cell_type": "markdown",
   "metadata": {},
   "source": [
    "# Práctica Nro 1 Certificación Python"
   ]
  },
  {
   "cell_type": "markdown",
   "metadata": {},
   "source": [
    "1.- Escriba un programa que lea un entero (input), lo multiplique por 3 y lo imprima."
   ]
  },
  {
   "cell_type": "code",
   "execution_count": 5,
   "metadata": {},
   "outputs": [
    {
     "name": "stdout",
     "output_type": "stream",
     "text": [
      "Ingrese un número 7\n",
      "El número multiplicado por 3 es: 21\n"
     ]
    }
   ],
   "source": [
    "numero = int(input(\"Ingrese un número \"))\n",
    "print(f\"El número multiplicado por 3 es: {numero*3}\")"
   ]
  },
  {
   "cell_type": "markdown",
   "metadata": {},
   "source": [
    "2.- Escribir un programa que pida al cliente la longitud y ancho de la habitación e\n",
    "imprima la superficie de la habitación, los valores podrán tener decimales.\n",
    "\n",
    "&nbsp;\n",
    "Formato de salida deseado: xx.yy m^2"
   ]
  },
  {
   "cell_type": "code",
   "execution_count": 1,
   "metadata": {},
   "outputs": [
    {
     "name": "stdout",
     "output_type": "stream",
     "text": [
      "Ingrese la longitud de la habitación (metros) 70.52\n",
      "Ingrese el ancho de la habitación (metros)10000.57\n",
      "la superficie de la habitación es: 705240.20 m^2\n"
     ]
    }
   ],
   "source": [
    "longitud=float(input(\"Ingrese la longitud de la habitación (metros) \"))\n",
    "ancho=float(input(\"Ingrese el ancho de la habitación (metros)\"))\n",
    "superficie=longitud*ancho\n",
    "print(f\"la superficie de la habitación es: {superficie:.2f} m^2\")"
   ]
  },
  {
   "cell_type": "markdown",
   "metadata": {},
   "source": [
    "3.- Determinar el área y volumen de un cilindro cuyas dimensiones (radio - altura) se lean\n",
    "desde el teclado.\n",
    "\n",
    "&nbsp;\n",
    "Formato de salida deseado: xx.yy m^3"
   ]
  },
  {
   "cell_type": "code",
   "execution_count": 8,
   "metadata": {},
   "outputs": [
    {
     "name": "stdout",
     "output_type": "stream",
     "text": [
      "Ingrese el radio del cilindro 8\n",
      "Ingrese la la altura del cilindro 10\n",
      "El área del cilindro es: 904.78 m^2\n",
      "El volumen del cilindro es: 2010.62 m^3\n"
     ]
    }
   ],
   "source": [
    "import math\n",
    "radio=float(input(\"Ingrese el radio del cilindro \"))\n",
    "altura=float(input(\"Ingrese la la altura del cilindro \"))\n",
    "area=2*math.pi*radio*(altura+radio)\n",
    "volumen=math.pi*radio*radio*altura\n",
    "print(f\"El área del cilindro es: {area:.2f} m^2\")\n",
    "print(f\"El volumen del cilindro es: {volumen:.2f} m^3\")"
   ]
  },
  {
   "cell_type": "markdown",
   "metadata": {},
   "source": [
    "4.- La fuerza de atracción entre dos masas m1 y m2 separadas por una distancia d, está\n",
    "dada por la fórmula:\n",
    "\n",
    "&nbsp;\n",
    "F = (G * m1 * m2)/(d^2)\n",
    "\n",
    "&nbsp;\n",
    "Donde G es la constante de gravitación universal:\n",
    "\n",
    "&nbsp;\n",
    "G = ((6.673x10^-8)cm^3)/(g*seg^2)\n",
    "\n",
    "&nbsp;\n",
    "Escriba un programa que lea la masa de dos cuerpos y la distancia entre ellos y a\n",
    "continuación obtenga la fuerza gravitacional entre ella. La salida debe ser en dinas; un\n",
    "DINA es igual a g*cm/seg^2\n",
    "\n",
    "&nbsp;\n",
    "Formato de salida deseado: xx.yy dyn"
   ]
  },
  {
   "cell_type": "code",
   "execution_count": 24,
   "metadata": {},
   "outputs": [
    {
     "name": "stdout",
     "output_type": "stream",
     "text": [
      "Ingrese la masa del cuerpo 1 (kilogramos): 50000\n",
      "Ingrese la masa del cuerpo 2 (kilogramos): 40000\n",
      "Ingrese la distancia entre los cuerpos (metros): 50\n",
      "La fuerza gravitacional en DINA es 5.34 dyn\n"
     ]
    }
   ],
   "source": [
    "masa1 = float(input(\"Ingrese la masa del cuerpo 1 (kilogramos): \"))\n",
    "masa2 = float(input(\"Ingrese la masa del cuerpo 2 (kilogramos): \"))\n",
    "distancia=float(input(\"Ingrese la distancia entre los cuerpos (metros): \"))\n",
    "masa1*=1000\n",
    "masa2*=1000\n",
    "distancia*=100\n",
    "fuerza=((6.673*(10**-8))*masa1*masa2)/(distancia**2)\n",
    "print(f\"La fuerza gravitacional en DINA es {fuerza:.2e} dyn\")"
   ]
  },
  {
   "cell_type": "markdown",
   "metadata": {},
   "source": [
    "5.- La famosa ecuación de Einstein para conversión de una masa m en energía viene dada\n",
    "por la fórmula:\n",
    "\n",
    "&nbsp;\n",
    "E = mc^2\n",
    "\n",
    "&nbsp;\n",
    "c es la velocidad de la luz\n",
    "\n",
    "&nbsp;\n",
    "c = 2.997925x10^10 m/seg\n",
    "\n",
    "&nbsp;\n",
    "Escribir un programa que lea una masa en gramos y obtenga la cantidad de energía\n",
    "producida cuando la masa se convierta en energía.\n",
    "Nota: se la masa se da en gramos, la fórmula produce la energía en ergios.\n",
    "\n",
    "&nbsp;\n",
    "Formato de salida deseado: xx.yy erg"
   ]
  },
  {
   "cell_type": "code",
   "execution_count": 2,
   "metadata": {},
   "outputs": [
    {
     "name": "stdout",
     "output_type": "stream",
     "text": [
      "Ingrese la masa del cuerpo (gramos): 1500\n",
      "Ergio de la masa convertida en energia es: 1.35e+24 erg\n"
     ]
    }
   ],
   "source": [
    "masa = float(input(\"Ingrese la masa del cuerpo (gramos): \"))\n",
    "c = 2.997925*(10**10)\n",
    "erg = masa*(c**2)\n",
    "print(f\"Ergio de la masa convertida en energia es: {erg:.2e} erg\")"
   ]
  },
  {
   "cell_type": "markdown",
   "metadata": {},
   "source": [
    "6.- Escribir un programa que lea la hora en un día de notación 24 horas y escriba la\n",
    "respuesta en notación de 12 horas. Por ejemplo, si la entrada es 13:45, la salida será:\n",
    "\n",
    "&nbsp;\n",
    "1:45 PM\n",
    "\n",
    "&nbsp;\n",
    "El programa pedirá al usuario que introduzca exactamente cinco caracteres. Así, por\n",
    "ejemplo, las nueve en punto se introduce como:\n",
    "\n",
    "&nbsp;\n",
    "09:00"
   ]
  },
  {
   "cell_type": "code",
   "execution_count": 9,
   "metadata": {},
   "outputs": [
    {
     "name": "stdout",
     "output_type": "stream",
     "text": [
      "Ingrese la hora (formato de 24 hrs) 12:57\n",
      "12:57 AM\n"
     ]
    }
   ],
   "source": [
    "hora=input(\"Ingrese la hora (formato de 24 hrs) \")\n",
    "partes=hora.split(\":\")\n",
    "if int(partes[0])>12:\n",
    "    print(f\"{int(partes[0])-12}:{partes[1]} PM\")\n",
    "else:\n",
    "    print(f\"{partes[0]}:{partes[1]} AM\")"
   ]
  },
  {
   "cell_type": "markdown",
   "metadata": {},
   "source": [
    "7.- Leer un número A, evaluar sucesivamente las expresiones siguientes y desplegar los\n",
    "resultados obtenidos en un archivo denominado “practica01.out”.\n",
    "\n",
    "&nbsp;\n",
    "B = A + 10\n",
    "\n",
    "&nbsp;\n",
    "C = 2 * B + A\n",
    "\n",
    "&nbsp;\n",
    "D = A + B + C + 5\n",
    "\n",
    "&nbsp;\n",
    "Formato de salida deseado:\n",
    "    \n",
    "&nbsp;\n",
    "Ejercicio 7.\n",
    "\n",
    "&nbsp;\n",
    "A = xx\n",
    "\n",
    "&nbsp;\n",
    "B = yy\n",
    "\n",
    "&nbsp;\n",
    "C = zz\n",
    "\n",
    "&nbsp;\n",
    "D = xyz"
   ]
  },
  {
   "cell_type": "code",
   "execution_count": 7,
   "metadata": {},
   "outputs": [
    {
     "name": "stdout",
     "output_type": "stream",
     "text": [
      "Ingresar valor de A 7\n",
      "Ejercicio 7.\n",
      "A = 7\n",
      "B = 17\n",
      "C = 41\n",
      "D = 70\n"
     ]
    }
   ],
   "source": [
    "a=int(input(\"Ingresar valor de A \"))\n",
    "b=a+10\n",
    "c=2*b+a\n",
    "d=a+b+c+5\n",
    "print(\"Ejercicio 7.\")\n",
    "print(f\"A = {a}\")\n",
    "print(f\"B = {b}\")\n",
    "print(f\"C = {c}\")\n",
    "print(f\"D = {d}\")"
   ]
  },
  {
   "cell_type": "markdown",
   "metadata": {},
   "source": [
    "8.- Hacer leer un número X de tipo decimal, hallar su valor absoluto y decimal, desplegar\n",
    "el resultado dentro del archivo “practica01.out”.\n",
    "\n",
    "&nbsp;\n",
    "Formato de salida deseado:\n",
    "\n",
    "&nbsp;\n",
    "Ejercicio 8.\n",
    "\n",
    "&nbsp;\n",
    "Número: xx.yy\n",
    "\n",
    "&nbsp;\n",
    "Valor absoluto: xx\n",
    "\n",
    "&nbsp;\n",
    "Parte decimal: yy"
   ]
  },
  {
   "cell_type": "code",
   "execution_count": 19,
   "metadata": {},
   "outputs": [
    {
     "name": "stdout",
     "output_type": "stream",
     "text": [
      "Ingrese el valor de X: -8.484357\n",
      "Ejercicio 8.\n",
      "Numero: -8.48\n",
      "Valor absoluto 9\n",
      "Parte decimal: 48\n"
     ]
    }
   ],
   "source": [
    "import math\n",
    "num=float(input(\"Ingrese el valor de X: \"))\n",
    "print(\"Ejercicio 8.\")\n",
    "print(f\"Numero: {num:.2f}\")\n",
    "print(f\"Valor absoluto {abs(int(math.floor(num)))}\")\n",
    "print(f\"Parte decimal: {((abs(num)-abs(int(num)))*100):.0f}\")"
   ]
  },
  {
   "cell_type": "code",
   "execution_count": null,
   "metadata": {},
   "outputs": [],
   "source": []
  }
 ],
 "metadata": {
  "kernelspec": {
   "display_name": "Python 3",
   "language": "python",
   "name": "python3"
  },
  "language_info": {
   "codemirror_mode": {
    "name": "ipython",
    "version": 3
   },
   "file_extension": ".py",
   "mimetype": "text/x-python",
   "name": "python",
   "nbconvert_exporter": "python",
   "pygments_lexer": "ipython3",
   "version": "3.7.4"
  }
 },
 "nbformat": 4,
 "nbformat_minor": 2
}
